{
 "cells": [
  {
   "cell_type": "markdown",
   "metadata": {},
   "source": [
    "#Clase 5"
   ]
  },
  {
   "cell_type": "code",
   "execution_count": 1,
   "metadata": {
    "collapsed": true
   },
   "outputs": [],
   "source": [
    "import pandas as pd\n",
    "import matplotlib.pyplot as plt\n",
    "plt.style.use(\"ggplot\")\n",
    "import numpy as np\n",
    "from Bio import SeqIO"
   ]
  },
  {
   "cell_type": "markdown",
   "metadata": {},
   "source": [
    "## Buscar un fragmento de secuencia dentro de otra"
   ]
  },
  {
   "cell_type": "code",
   "execution_count": 2,
   "metadata": {
    "collapsed": true
   },
   "outputs": [],
   "source": [
    "query  = list(SeqIO.parse(\"archivos_clase5/query.fa\", \"fasta\"))\n",
    "target = list(SeqIO.parse(\"archivos_clase5/target.fa\", \"fasta\"))"
   ]
  },
  {
   "cell_type": "code",
   "execution_count": 3,
   "metadata": {
    "collapsed": false
   },
   "outputs": [
    {
     "data": {
      "text/plain": [
       "9"
      ]
     },
     "execution_count": 3,
     "metadata": {},
     "output_type": "execute_result"
    }
   ],
   "source": [
    "len(query)"
   ]
  },
  {
   "cell_type": "code",
   "execution_count": 4,
   "metadata": {
    "collapsed": false
   },
   "outputs": [
    {
     "data": {
      "text/plain": [
       "1"
      ]
     },
     "execution_count": 4,
     "metadata": {},
     "output_type": "execute_result"
    }
   ],
   "source": [
    "len(target)"
   ]
  },
  {
   "cell_type": "code",
   "execution_count": 8,
   "metadata": {
    "collapsed": false
   },
   "outputs": [
    {
     "data": {
      "text/plain": [
       "'CCCAGCTCAGCTCAGCTCAGCCTAGACTGAGCTGAACTGGGTGAGCTTGGCTGAGCTGAGCTGGGCTTGACTGCACTGAGCTGGACTGGCCTGGGCTGGGCCCCAGCTCAGCTCAGCTCAGCCTAGACTGAGCTGAACTGGGTGAGCTTGG'"
      ]
     },
     "execution_count": 8,
     "metadata": {},
     "output_type": "execute_result"
    }
   ],
   "source": [
    "str(target[0].seq)"
   ]
  },
  {
   "cell_type": "code",
   "execution_count": 15,
   "metadata": {
    "collapsed": false
   },
   "outputs": [
    {
     "name": "stdout",
     "output_type": "stream",
     "text": [
      "query0 Si esta\n",
      "query1 Si esta\n",
      "query2 no esta\n",
      "query3 no esta\n",
      "query4 no esta\n",
      "query5 no esta\n",
      "query6 no esta\n",
      "query7 no esta\n",
      "query8 no esta\n"
     ]
    }
   ],
   "source": [
    "buenas = list()\n",
    "malas = list()\n",
    "for secuencia in query:\n",
    "    if str(secuencia.seq) in str(target[0].seq):\n",
    "        print(secuencia.id, \"Si esta\")\n",
    "        buenas.append(secuencia)\n",
    "    else:\n",
    "        print(secuencia.id, \"no esta\")\n",
    "        malas.append(secuencia)\n"
   ]
  },
  {
   "cell_type": "code",
   "execution_count": 16,
   "metadata": {
    "collapsed": false
   },
   "outputs": [
    {
     "data": {
      "text/plain": [
       "2"
      ]
     },
     "execution_count": 16,
     "metadata": {},
     "output_type": "execute_result"
    }
   ],
   "source": [
    "len(buenas)"
   ]
  },
  {
   "cell_type": "code",
   "execution_count": 17,
   "metadata": {
    "collapsed": false
   },
   "outputs": [
    {
     "data": {
      "text/plain": [
       "7"
      ]
     },
     "execution_count": 17,
     "metadata": {},
     "output_type": "execute_result"
    }
   ],
   "source": [
    "len(malas)"
   ]
  },
  {
   "cell_type": "code",
   "execution_count": 18,
   "metadata": {
    "collapsed": false
   },
   "outputs": [
    {
     "data": {
      "text/plain": [
       "[SeqRecord(seq=Seq('CCCAGCTCAGCTCAGCTCAGCCTAGACTGAGCTGAACTGGGTGAGCTTGG', SingleLetterAlphabet()), id='query0', name='query0', description='query0', dbxrefs=[]),\n",
       " SeqRecord(seq=Seq('CTGAGCTGAGCTGGGCTTGACTGCACTGAGCTGGACTGGCCTGGGCTGGGC', SingleLetterAlphabet()), id='query1', name='query1', description='query1', dbxrefs=[])]"
      ]
     },
     "execution_count": 18,
     "metadata": {},
     "output_type": "execute_result"
    }
   ],
   "source": [
    "buenas"
   ]
  },
  {
   "cell_type": "markdown",
   "metadata": {},
   "source": [
    "## trabajar con los archivos de uclust"
   ]
  },
  {
   "cell_type": "code",
   "execution_count": 23,
   "metadata": {
    "collapsed": false
   },
   "outputs": [],
   "source": [
    "tabla = pd.read_table(\"archivos_clase5/clusters.uc\", sep=\"\\t\", header=None)"
   ]
  },
  {
   "cell_type": "code",
   "execution_count": 24,
   "metadata": {
    "collapsed": false
   },
   "outputs": [
    {
     "data": {
      "text/html": [
       "<div style=\"max-height:1000px;max-width:1500px;overflow:auto;\">\n",
       "<table border=\"1\" class=\"dataframe\">\n",
       "  <thead>\n",
       "    <tr style=\"text-align: right;\">\n",
       "      <th></th>\n",
       "      <th>0</th>\n",
       "      <th>1</th>\n",
       "      <th>2</th>\n",
       "      <th>3</th>\n",
       "      <th>4</th>\n",
       "      <th>5</th>\n",
       "      <th>6</th>\n",
       "      <th>7</th>\n",
       "      <th>8</th>\n",
       "      <th>9</th>\n",
       "    </tr>\n",
       "  </thead>\n",
       "  <tbody>\n",
       "    <tr>\n",
       "      <th>0</th>\n",
       "      <td>S</td>\n",
       "      <td>0</td>\n",
       "      <td>45</td>\n",
       "      <td>*</td>\n",
       "      <td>*</td>\n",
       "      <td>*</td>\n",
       "      <td>*</td>\n",
       "      <td>*</td>\n",
       "      <td>LM1AYCV99A0BXJ</td>\n",
       "      <td>*</td>\n",
       "    </tr>\n",
       "    <tr>\n",
       "      <th>1</th>\n",
       "      <td>H</td>\n",
       "      <td>0</td>\n",
       "      <td>45</td>\n",
       "      <td>100.0</td>\n",
       "      <td>.</td>\n",
       "      <td>0</td>\n",
       "      <td>0</td>\n",
       "      <td>=</td>\n",
       "      <td>LM1AYCV99BDZXW</td>\n",
       "      <td>LM1AYCV99A0BXJ</td>\n",
       "    </tr>\n",
       "    <tr>\n",
       "      <th>2</th>\n",
       "      <td>H</td>\n",
       "      <td>0</td>\n",
       "      <td>45</td>\n",
       "      <td>100.0</td>\n",
       "      <td>.</td>\n",
       "      <td>0</td>\n",
       "      <td>0</td>\n",
       "      <td>=</td>\n",
       "      <td>LM1AYCV99AVPRO</td>\n",
       "      <td>LM1AYCV99A0BXJ</td>\n",
       "    </tr>\n",
       "    <tr>\n",
       "      <th>3</th>\n",
       "      <td>H</td>\n",
       "      <td>0</td>\n",
       "      <td>45</td>\n",
       "      <td>100.0</td>\n",
       "      <td>.</td>\n",
       "      <td>0</td>\n",
       "      <td>0</td>\n",
       "      <td>=</td>\n",
       "      <td>LM1AYCV99A7X8M</td>\n",
       "      <td>LM1AYCV99A0BXJ</td>\n",
       "    </tr>\n",
       "    <tr>\n",
       "      <th>4</th>\n",
       "      <td>H</td>\n",
       "      <td>0</td>\n",
       "      <td>45</td>\n",
       "      <td>100.0</td>\n",
       "      <td>.</td>\n",
       "      <td>0</td>\n",
       "      <td>0</td>\n",
       "      <td>=</td>\n",
       "      <td>LM1AYCV99A4VOE</td>\n",
       "      <td>LM1AYCV99A0BXJ</td>\n",
       "    </tr>\n",
       "  </tbody>\n",
       "</table>\n",
       "</div>"
      ],
      "text/plain": [
       "   0  1   2      3  4  5  6  7               8               9\n",
       "0  S  0  45      *  *  *  *  *  LM1AYCV99A0BXJ               *\n",
       "1  H  0  45  100.0  .  0  0  =  LM1AYCV99BDZXW  LM1AYCV99A0BXJ\n",
       "2  H  0  45  100.0  .  0  0  =  LM1AYCV99AVPRO  LM1AYCV99A0BXJ\n",
       "3  H  0  45  100.0  .  0  0  =  LM1AYCV99A7X8M  LM1AYCV99A0BXJ\n",
       "4  H  0  45  100.0  .  0  0  =  LM1AYCV99A4VOE  LM1AYCV99A0BXJ"
      ]
     },
     "execution_count": 24,
     "metadata": {},
     "output_type": "execute_result"
    }
   ],
   "source": [
    "tabla.head()"
   ]
  },
  {
   "cell_type": "code",
   "execution_count": 25,
   "metadata": {
    "collapsed": false
   },
   "outputs": [
    {
     "data": {
      "text/html": [
       "<div style=\"max-height:1000px;max-width:1500px;overflow:auto;\">\n",
       "<table border=\"1\" class=\"dataframe\">\n",
       "  <thead>\n",
       "    <tr style=\"text-align: right;\">\n",
       "      <th></th>\n",
       "      <th>0</th>\n",
       "      <th>1</th>\n",
       "      <th>2</th>\n",
       "      <th>3</th>\n",
       "      <th>4</th>\n",
       "      <th>5</th>\n",
       "      <th>6</th>\n",
       "      <th>7</th>\n",
       "      <th>8</th>\n",
       "      <th>9</th>\n",
       "    </tr>\n",
       "  </thead>\n",
       "  <tbody>\n",
       "    <tr>\n",
       "      <th>3260</th>\n",
       "      <td>C</td>\n",
       "      <td>1072</td>\n",
       "      <td>1</td>\n",
       "      <td>*</td>\n",
       "      <td>*</td>\n",
       "      <td>*</td>\n",
       "      <td>*</td>\n",
       "      <td>*</td>\n",
       "      <td>LM1AYCV99A32DY</td>\n",
       "      <td>*</td>\n",
       "    </tr>\n",
       "    <tr>\n",
       "      <th>3261</th>\n",
       "      <td>C</td>\n",
       "      <td>1073</td>\n",
       "      <td>1</td>\n",
       "      <td>*</td>\n",
       "      <td>*</td>\n",
       "      <td>*</td>\n",
       "      <td>*</td>\n",
       "      <td>*</td>\n",
       "      <td>LM1AYCV99BC7UB</td>\n",
       "      <td>*</td>\n",
       "    </tr>\n",
       "    <tr>\n",
       "      <th>3262</th>\n",
       "      <td>C</td>\n",
       "      <td>1074</td>\n",
       "      <td>1</td>\n",
       "      <td>*</td>\n",
       "      <td>*</td>\n",
       "      <td>*</td>\n",
       "      <td>*</td>\n",
       "      <td>*</td>\n",
       "      <td>LM1AYCV99AL20N</td>\n",
       "      <td>*</td>\n",
       "    </tr>\n",
       "    <tr>\n",
       "      <th>3263</th>\n",
       "      <td>C</td>\n",
       "      <td>1075</td>\n",
       "      <td>1</td>\n",
       "      <td>*</td>\n",
       "      <td>*</td>\n",
       "      <td>*</td>\n",
       "      <td>*</td>\n",
       "      <td>*</td>\n",
       "      <td>LM1AYCV99BAG1B</td>\n",
       "      <td>*</td>\n",
       "    </tr>\n",
       "    <tr>\n",
       "      <th>3264</th>\n",
       "      <td>C</td>\n",
       "      <td>1076</td>\n",
       "      <td>1</td>\n",
       "      <td>*</td>\n",
       "      <td>*</td>\n",
       "      <td>*</td>\n",
       "      <td>*</td>\n",
       "      <td>*</td>\n",
       "      <td>LM1AYCV99AOSG3</td>\n",
       "      <td>*</td>\n",
       "    </tr>\n",
       "  </tbody>\n",
       "</table>\n",
       "</div>"
      ],
      "text/plain": [
       "      0     1  2  3  4  5  6  7               8  9\n",
       "3260  C  1072  1  *  *  *  *  *  LM1AYCV99A32DY  *\n",
       "3261  C  1073  1  *  *  *  *  *  LM1AYCV99BC7UB  *\n",
       "3262  C  1074  1  *  *  *  *  *  LM1AYCV99AL20N  *\n",
       "3263  C  1075  1  *  *  *  *  *  LM1AYCV99BAG1B  *\n",
       "3264  C  1076  1  *  *  *  *  *  LM1AYCV99AOSG3  *"
      ]
     },
     "execution_count": 25,
     "metadata": {},
     "output_type": "execute_result"
    }
   ],
   "source": [
    "tabla.tail()"
   ]
  },
  {
   "cell_type": "code",
   "execution_count": 29,
   "metadata": {
    "collapsed": false
   },
   "outputs": [],
   "source": [
    "df = tabla.get(tabla[0] != \"C\")"
   ]
  },
  {
   "cell_type": "code",
   "execution_count": 30,
   "metadata": {
    "collapsed": false
   },
   "outputs": [
    {
     "data": {
      "text/html": [
       "<div style=\"max-height:1000px;max-width:1500px;overflow:auto;\">\n",
       "<table border=\"1\" class=\"dataframe\">\n",
       "  <thead>\n",
       "    <tr style=\"text-align: right;\">\n",
       "      <th></th>\n",
       "      <th>0</th>\n",
       "      <th>1</th>\n",
       "      <th>2</th>\n",
       "      <th>3</th>\n",
       "      <th>4</th>\n",
       "      <th>5</th>\n",
       "      <th>6</th>\n",
       "      <th>7</th>\n",
       "      <th>8</th>\n",
       "      <th>9</th>\n",
       "    </tr>\n",
       "  </thead>\n",
       "  <tbody>\n",
       "    <tr>\n",
       "      <th>2183</th>\n",
       "      <td>S</td>\n",
       "      <td>1072</td>\n",
       "      <td>59</td>\n",
       "      <td>*</td>\n",
       "      <td>*</td>\n",
       "      <td>*</td>\n",
       "      <td>*</td>\n",
       "      <td>*</td>\n",
       "      <td>LM1AYCV99A32DY</td>\n",
       "      <td>*</td>\n",
       "    </tr>\n",
       "    <tr>\n",
       "      <th>2184</th>\n",
       "      <td>S</td>\n",
       "      <td>1073</td>\n",
       "      <td>51</td>\n",
       "      <td>*</td>\n",
       "      <td>*</td>\n",
       "      <td>*</td>\n",
       "      <td>*</td>\n",
       "      <td>*</td>\n",
       "      <td>LM1AYCV99BC7UB</td>\n",
       "      <td>*</td>\n",
       "    </tr>\n",
       "    <tr>\n",
       "      <th>2185</th>\n",
       "      <td>S</td>\n",
       "      <td>1074</td>\n",
       "      <td>63</td>\n",
       "      <td>*</td>\n",
       "      <td>*</td>\n",
       "      <td>*</td>\n",
       "      <td>*</td>\n",
       "      <td>*</td>\n",
       "      <td>LM1AYCV99AL20N</td>\n",
       "      <td>*</td>\n",
       "    </tr>\n",
       "    <tr>\n",
       "      <th>2186</th>\n",
       "      <td>S</td>\n",
       "      <td>1075</td>\n",
       "      <td>60</td>\n",
       "      <td>*</td>\n",
       "      <td>*</td>\n",
       "      <td>*</td>\n",
       "      <td>*</td>\n",
       "      <td>*</td>\n",
       "      <td>LM1AYCV99BAG1B</td>\n",
       "      <td>*</td>\n",
       "    </tr>\n",
       "    <tr>\n",
       "      <th>2187</th>\n",
       "      <td>S</td>\n",
       "      <td>1076</td>\n",
       "      <td>60</td>\n",
       "      <td>*</td>\n",
       "      <td>*</td>\n",
       "      <td>*</td>\n",
       "      <td>*</td>\n",
       "      <td>*</td>\n",
       "      <td>LM1AYCV99AOSG3</td>\n",
       "      <td>*</td>\n",
       "    </tr>\n",
       "  </tbody>\n",
       "</table>\n",
       "</div>"
      ],
      "text/plain": [
       "      0     1   2  3  4  5  6  7               8  9\n",
       "2183  S  1072  59  *  *  *  *  *  LM1AYCV99A32DY  *\n",
       "2184  S  1073  51  *  *  *  *  *  LM1AYCV99BC7UB  *\n",
       "2185  S  1074  63  *  *  *  *  *  LM1AYCV99AL20N  *\n",
       "2186  S  1075  60  *  *  *  *  *  LM1AYCV99BAG1B  *\n",
       "2187  S  1076  60  *  *  *  *  *  LM1AYCV99AOSG3  *"
      ]
     },
     "execution_count": 30,
     "metadata": {},
     "output_type": "execute_result"
    }
   ],
   "source": [
    "df.tail()"
   ]
  },
  {
   "cell_type": "code",
   "execution_count": 31,
   "metadata": {
    "collapsed": true
   },
   "outputs": [],
   "source": [
    "temp = df.get(df[0] == \"S\")"
   ]
  },
  {
   "cell_type": "code",
   "execution_count": 32,
   "metadata": {
    "collapsed": false
   },
   "outputs": [
    {
     "data": {
      "text/html": [
       "<div style=\"max-height:1000px;max-width:1500px;overflow:auto;\">\n",
       "<table border=\"1\" class=\"dataframe\">\n",
       "  <thead>\n",
       "    <tr style=\"text-align: right;\">\n",
       "      <th></th>\n",
       "      <th>0</th>\n",
       "      <th>1</th>\n",
       "      <th>2</th>\n",
       "      <th>3</th>\n",
       "      <th>4</th>\n",
       "      <th>5</th>\n",
       "      <th>6</th>\n",
       "      <th>7</th>\n",
       "      <th>8</th>\n",
       "      <th>9</th>\n",
       "    </tr>\n",
       "  </thead>\n",
       "  <tbody>\n",
       "    <tr>\n",
       "      <th>0</th>\n",
       "      <td>S</td>\n",
       "      <td>0</td>\n",
       "      <td>45</td>\n",
       "      <td>*</td>\n",
       "      <td>*</td>\n",
       "      <td>*</td>\n",
       "      <td>*</td>\n",
       "      <td>*</td>\n",
       "      <td>LM1AYCV99A0BXJ</td>\n",
       "      <td>*</td>\n",
       "    </tr>\n",
       "    <tr>\n",
       "      <th>21</th>\n",
       "      <td>S</td>\n",
       "      <td>1</td>\n",
       "      <td>42</td>\n",
       "      <td>*</td>\n",
       "      <td>*</td>\n",
       "      <td>*</td>\n",
       "      <td>*</td>\n",
       "      <td>*</td>\n",
       "      <td>LM1AYCV99A95VY</td>\n",
       "      <td>*</td>\n",
       "    </tr>\n",
       "    <tr>\n",
       "      <th>37</th>\n",
       "      <td>S</td>\n",
       "      <td>2</td>\n",
       "      <td>45</td>\n",
       "      <td>*</td>\n",
       "      <td>*</td>\n",
       "      <td>*</td>\n",
       "      <td>*</td>\n",
       "      <td>*</td>\n",
       "      <td>LM1AYCV99AKUJ9</td>\n",
       "      <td>*</td>\n",
       "    </tr>\n",
       "    <tr>\n",
       "      <th>52</th>\n",
       "      <td>S</td>\n",
       "      <td>3</td>\n",
       "      <td>48</td>\n",
       "      <td>*</td>\n",
       "      <td>*</td>\n",
       "      <td>*</td>\n",
       "      <td>*</td>\n",
       "      <td>*</td>\n",
       "      <td>LM1AYCV99BATYD</td>\n",
       "      <td>*</td>\n",
       "    </tr>\n",
       "    <tr>\n",
       "      <th>64</th>\n",
       "      <td>S</td>\n",
       "      <td>4</td>\n",
       "      <td>45</td>\n",
       "      <td>*</td>\n",
       "      <td>*</td>\n",
       "      <td>*</td>\n",
       "      <td>*</td>\n",
       "      <td>*</td>\n",
       "      <td>LM1AYCV99AM2FF</td>\n",
       "      <td>*</td>\n",
       "    </tr>\n",
       "  </tbody>\n",
       "</table>\n",
       "</div>"
      ],
      "text/plain": [
       "    0  1   2  3  4  5  6  7               8  9\n",
       "0   S  0  45  *  *  *  *  *  LM1AYCV99A0BXJ  *\n",
       "21  S  1  42  *  *  *  *  *  LM1AYCV99A95VY  *\n",
       "37  S  2  45  *  *  *  *  *  LM1AYCV99AKUJ9  *\n",
       "52  S  3  48  *  *  *  *  *  LM1AYCV99BATYD  *\n",
       "64  S  4  45  *  *  *  *  *  LM1AYCV99AM2FF  *"
      ]
     },
     "execution_count": 32,
     "metadata": {},
     "output_type": "execute_result"
    }
   ],
   "source": [
    "temp.head()"
   ]
  },
  {
   "cell_type": "code",
   "execution_count": 33,
   "metadata": {
    "collapsed": true
   },
   "outputs": [],
   "source": [
    "indices = temp.index"
   ]
  },
  {
   "cell_type": "code",
   "execution_count": 34,
   "metadata": {
    "collapsed": false
   },
   "outputs": [
    {
     "data": {
      "text/plain": [
       "Int64Index([   0,   21,   37,   52,   64,   76,   86,   96,  105,  114, \n",
       "            ...\n",
       "            2174, 2177, 2179, 2181, 2182, 2183, 2184, 2185, 2186, 2187],\n",
       "           dtype='int64', length=1077)"
      ]
     },
     "execution_count": 34,
     "metadata": {},
     "output_type": "execute_result"
    }
   ],
   "source": [
    "indices"
   ]
  },
  {
   "cell_type": "code",
   "execution_count": 58,
   "metadata": {
    "collapsed": false
   },
   "outputs": [],
   "source": [
    "temp.iat[37, 0] = \"S\""
   ]
  },
  {
   "cell_type": "code",
   "execution_count": 59,
   "metadata": {
    "collapsed": false
   },
   "outputs": [
    {
     "data": {
      "text/plain": [
       "'S'"
      ]
     },
     "execution_count": 59,
     "metadata": {},
     "output_type": "execute_result"
    }
   ],
   "source": [
    "temp.loc[308][0]"
   ]
  },
  {
   "cell_type": "code",
   "execution_count": 60,
   "metadata": {
    "collapsed": false
   },
   "outputs": [
    {
     "data": {
      "text/html": [
       "<div style=\"max-height:1000px;max-width:1500px;overflow:auto;\">\n",
       "<table border=\"1\" class=\"dataframe\">\n",
       "  <thead>\n",
       "    <tr style=\"text-align: right;\">\n",
       "      <th></th>\n",
       "      <th>0</th>\n",
       "      <th>1</th>\n",
       "      <th>2</th>\n",
       "      <th>3</th>\n",
       "      <th>4</th>\n",
       "      <th>5</th>\n",
       "      <th>6</th>\n",
       "      <th>7</th>\n",
       "      <th>8</th>\n",
       "      <th>9</th>\n",
       "    </tr>\n",
       "  </thead>\n",
       "  <tbody>\n",
       "  </tbody>\n",
       "</table>\n",
       "</div>"
      ],
      "text/plain": [
       "Empty DataFrame\n",
       "Columns: [0, 1, 2, 3, 4, 5, 6, 7, 8, 9]\n",
       "Index: []"
      ]
     },
     "execution_count": 60,
     "metadata": {},
     "output_type": "execute_result"
    }
   ],
   "source": [
    "temp.get(temp[0] == \"C\")"
   ]
  },
  {
   "cell_type": "code",
   "execution_count": 62,
   "metadata": {
    "collapsed": false
   },
   "outputs": [],
   "source": [
    "for i in indices:\n",
    "    valor = temp.loc[i][8]\n",
    "    df.iat[i, 9] = valor\n"
   ]
  },
  {
   "cell_type": "code",
   "execution_count": 63,
   "metadata": {
    "collapsed": false
   },
   "outputs": [
    {
     "data": {
      "text/html": [
       "<div style=\"max-height:1000px;max-width:1500px;overflow:auto;\">\n",
       "<table border=\"1\" class=\"dataframe\">\n",
       "  <thead>\n",
       "    <tr style=\"text-align: right;\">\n",
       "      <th></th>\n",
       "      <th>0</th>\n",
       "      <th>1</th>\n",
       "      <th>2</th>\n",
       "      <th>3</th>\n",
       "      <th>4</th>\n",
       "      <th>5</th>\n",
       "      <th>6</th>\n",
       "      <th>7</th>\n",
       "      <th>8</th>\n",
       "      <th>9</th>\n",
       "    </tr>\n",
       "  </thead>\n",
       "  <tbody>\n",
       "    <tr>\n",
       "      <th>0</th>\n",
       "      <td>S</td>\n",
       "      <td>0</td>\n",
       "      <td>45</td>\n",
       "      <td>*</td>\n",
       "      <td>*</td>\n",
       "      <td>*</td>\n",
       "      <td>*</td>\n",
       "      <td>*</td>\n",
       "      <td>LM1AYCV99A0BXJ</td>\n",
       "      <td>LM1AYCV99A0BXJ</td>\n",
       "    </tr>\n",
       "    <tr>\n",
       "      <th>1</th>\n",
       "      <td>H</td>\n",
       "      <td>0</td>\n",
       "      <td>45</td>\n",
       "      <td>100.0</td>\n",
       "      <td>.</td>\n",
       "      <td>0</td>\n",
       "      <td>0</td>\n",
       "      <td>=</td>\n",
       "      <td>LM1AYCV99BDZXW</td>\n",
       "      <td>LM1AYCV99A0BXJ</td>\n",
       "    </tr>\n",
       "    <tr>\n",
       "      <th>2</th>\n",
       "      <td>H</td>\n",
       "      <td>0</td>\n",
       "      <td>45</td>\n",
       "      <td>100.0</td>\n",
       "      <td>.</td>\n",
       "      <td>0</td>\n",
       "      <td>0</td>\n",
       "      <td>=</td>\n",
       "      <td>LM1AYCV99AVPRO</td>\n",
       "      <td>LM1AYCV99A0BXJ</td>\n",
       "    </tr>\n",
       "    <tr>\n",
       "      <th>3</th>\n",
       "      <td>H</td>\n",
       "      <td>0</td>\n",
       "      <td>45</td>\n",
       "      <td>100.0</td>\n",
       "      <td>.</td>\n",
       "      <td>0</td>\n",
       "      <td>0</td>\n",
       "      <td>=</td>\n",
       "      <td>LM1AYCV99A7X8M</td>\n",
       "      <td>LM1AYCV99A0BXJ</td>\n",
       "    </tr>\n",
       "    <tr>\n",
       "      <th>4</th>\n",
       "      <td>H</td>\n",
       "      <td>0</td>\n",
       "      <td>45</td>\n",
       "      <td>100.0</td>\n",
       "      <td>.</td>\n",
       "      <td>0</td>\n",
       "      <td>0</td>\n",
       "      <td>=</td>\n",
       "      <td>LM1AYCV99A4VOE</td>\n",
       "      <td>LM1AYCV99A0BXJ</td>\n",
       "    </tr>\n",
       "  </tbody>\n",
       "</table>\n",
       "</div>"
      ],
      "text/plain": [
       "   0  1   2      3  4  5  6  7               8               9\n",
       "0  S  0  45      *  *  *  *  *  LM1AYCV99A0BXJ  LM1AYCV99A0BXJ\n",
       "1  H  0  45  100.0  .  0  0  =  LM1AYCV99BDZXW  LM1AYCV99A0BXJ\n",
       "2  H  0  45  100.0  .  0  0  =  LM1AYCV99AVPRO  LM1AYCV99A0BXJ\n",
       "3  H  0  45  100.0  .  0  0  =  LM1AYCV99A7X8M  LM1AYCV99A0BXJ\n",
       "4  H  0  45  100.0  .  0  0  =  LM1AYCV99A4VOE  LM1AYCV99A0BXJ"
      ]
     },
     "execution_count": 63,
     "metadata": {},
     "output_type": "execute_result"
    }
   ],
   "source": [
    "df.head()"
   ]
  },
  {
   "cell_type": "code",
   "execution_count": 64,
   "metadata": {
    "collapsed": true
   },
   "outputs": [],
   "source": [
    "grouped = df.groupby([9])"
   ]
  },
  {
   "cell_type": "code",
   "execution_count": 70,
   "metadata": {
    "collapsed": false
   },
   "outputs": [],
   "source": [
    "size = grouped.size()"
   ]
  },
  {
   "cell_type": "code",
   "execution_count": 71,
   "metadata": {
    "collapsed": false
   },
   "outputs": [],
   "source": [
    "size.sort()"
   ]
  },
  {
   "cell_type": "code",
   "execution_count": 72,
   "metadata": {
    "collapsed": false,
    "scrolled": true
   },
   "outputs": [
    {
     "data": {
      "text/plain": [
       "9\n",
       "LM1AYCV99BFEPW     1\n",
       "LM1AYCV99ALHB9     1\n",
       "LM1AYCV99ALHCP     1\n",
       "LM1AYCV99AX6JF     1\n",
       "LM1AYCV99ALHJ0     1\n",
       "LM1AYCV99AX4S3     1\n",
       "LM1AYCV99AX49Y     1\n",
       "LM1AYCV99ALKL0     1\n",
       "LM1AYCV99AWZ9Y     1\n",
       "LM1AYCV99AWXJV     1\n",
       "LM1AYCV99ALLCF     1\n",
       "LM1AYCV99ALNHD     1\n",
       "LM1AYCV99ALNRM     1\n",
       "LM1AYCV99ALS9C     1\n",
       "LM1AYCV99ALSD9     1\n",
       "LM1AYCV99ALTFL     1\n",
       "LM1AYCV99ALUHG     1\n",
       "LM1AYCV99ALY4V     1\n",
       "LM1AYCV99ALGLD     1\n",
       "LM1AYCV99ALYSC     1\n",
       "LM1AYCV99ALGB1     1\n",
       "LM1AYCV99ALEVZ     1\n",
       "LM1AYCV99AKRGL     1\n",
       "LM1AYCV99AXQ69     1\n",
       "LM1AYCV99AXQ1G     1\n",
       "LM1AYCV99AXNB1     1\n",
       "LM1AYCV99AKW6W     1\n",
       "LM1AYCV99AKXKG     1\n",
       "LM1AYCV99AXMA8     1\n",
       "LM1AYCV99AL1CR     1\n",
       "                  ..\n",
       "LM1AYCV99AYQ5Y     7\n",
       "LM1AYCV99AK025     8\n",
       "LM1AYCV99ATGB2     8\n",
       "LM1AYCV99A0DQY     8\n",
       "LM1AYCV99A60FG     8\n",
       "LM1AYCV99AYN9W     8\n",
       "LM1AYCV99A9NLP     8\n",
       "LM1AYCV99A8QG6     8\n",
       "LM1AYCV99AUU45     8\n",
       "LM1AYCV99BECOE     8\n",
       "LM1AYCV99A641X     9\n",
       "LM1AYCV99AQ3VR     9\n",
       "LM1AYCV99AJLLZ    10\n",
       "LM1AYCV99BAWDL    10\n",
       "LM1AYCV99AQZBS    10\n",
       "LM1AYCV99BBBPV    10\n",
       "LM1AYCV99A3E7Z    10\n",
       "LM1AYCV99AXVCZ    10\n",
       "LM1AYCV99AQKQ3    11\n",
       "LM1AYCV99A25EN    11\n",
       "LM1AYCV99BCEDE    11\n",
       "LM1AYCV99AZV1W    11\n",
       "LM1AYCV99A45H2    11\n",
       "LM1AYCV99ALTKZ    12\n",
       "LM1AYCV99AM2FF    12\n",
       "LM1AYCV99BATYD    12\n",
       "LM1AYCV99BAR2R    15\n",
       "LM1AYCV99AKUJ9    19\n",
       "LM1AYCV99A95VY    24\n",
       "LM1AYCV99A0BXJ    34\n",
       "dtype: int64"
      ]
     },
     "execution_count": 72,
     "metadata": {},
     "output_type": "execute_result"
    }
   ],
   "source": [
    "size"
   ]
  },
  {
   "cell_type": "code",
   "execution_count": 74,
   "metadata": {
    "collapsed": false
   },
   "outputs": [
    {
     "name": "stdout",
     "output_type": "stream",
     "text": [
      "LM1AYCV99A00CR\n",
      "      0    1   2      3  4  5  6  7               8               9\n",
      "1124  S  304  30      *  *  *  *  *  LM1AYCV99A00CR  LM1AYCV99A00CR\n",
      "1125  H  304  30  100.0  .  0  0  =  LM1AYCV99A4PXA  LM1AYCV99A00CR\n",
      "----------------------\n"
     ]
    }
   ],
   "source": [
    "for name, group in grouped:\n",
    "    print(name)\n",
    "    print(group)\n",
    "    print(\"----------------------\")\n",
    "    break"
   ]
  },
  {
   "cell_type": "markdown",
   "metadata": {},
   "source": [
    "### Como crear un perfil en ipython"
   ]
  },
  {
   "cell_type": "markdown",
   "metadata": {},
   "source": [
    "ipython profile create miperfil\n",
    "\n",
    "editar el archivo del perfil: .ipython/profile_miperfil/ipython_config.py\n",
    "\n",
    "ipython --profile=miperfil"
   ]
  },
  {
   "cell_type": "code",
   "execution_count": null,
   "metadata": {
    "collapsed": true
   },
   "outputs": [],
   "source": []
  }
 ],
 "metadata": {
  "kernelspec": {
   "display_name": "Python 3",
   "language": "python",
   "name": "python3"
  },
  "language_info": {
   "codemirror_mode": {
    "name": "ipython",
    "version": 3
   },
   "file_extension": ".py",
   "mimetype": "text/x-python",
   "name": "python",
   "nbconvert_exporter": "python",
   "pygments_lexer": "ipython3",
   "version": "3.4.3"
  }
 },
 "nbformat": 4,
 "nbformat_minor": 0
}
