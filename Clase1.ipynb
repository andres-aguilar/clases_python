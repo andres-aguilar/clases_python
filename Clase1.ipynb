{
 "cells": [
  {
   "cell_type": "markdown",
   "metadata": {},
   "source": [
    "# Introducción y un poco de historia"
   ]
  },
  {
   "cell_type": "markdown",
   "metadata": {},
   "source": [
    "Python es un lenguaje de programación interpretado cuya filosofía hace hincapié en una sintaxis que favorezca un código legible.\n",
    "Se trata de un lenguaje de programación multiparadigma, ya que soporta orientación a objetos, programación imperativa y, en menor medida, programación funcional. Es un lenguaje interpretado, usa tipado dinámico y es multiplataforma.\n",
    "\n",
    "Python fue creado a finales de los ochenta por Guido van Rossum en el Centro para las Matemáticas y la Informática en los Países Bajos.\n"
   ]
  },
  {
   "cell_type": "markdown",
   "metadata": {},
   "source": [
    "## El ZEN de python"
   ]
  },
  {
   "cell_type": "markdown",
   "metadata": {},
   "source": [
    "Python favorece un código fuente legible, ordenado y _'bonito'_\n",
    ",para que sea fácil de leer y mantener\n",
    "\n",
    "* Bello es mejor que feo.\n",
    "* Explícito es mejor que implícito.\n",
    "* Simple es mejor que complejo.\n",
    "* Complejo es mejor que complicado.\n",
    "* Plano es mejor que anidado.\n",
    "* Disperso es mejor que denso.\n",
    "* La legibilidad cuenta.\n",
    "* Los casos especiales no son tan especiales como para quebrantar las reglas.\n",
    "* Aunque lo práctico gana a la pureza.\n",
    "* Los errores nunca deberían dejarse pasar silenciosamente.\n",
    "* A menos que hayan sido silenciados explícitamente.\n",
    "* Frente a la ambigüedad, rechaza la tentación de adivinar.\n",
    "* Debería haber una -y preferiblemente sólo una- manera obvia de hacerlo.\n",
    "* Ahora es mejor que nunca.\n",
    "* Si la implementación es difícil de explicar, es una mala idea.\n",
    "* Los espacios de nombres (namespaces) son una gran idea ¡Hagamos más de esas cosas!\n",
    "\n",
    "Si un código fuente cumple con los puntos anteriores se dice que está: *pythonizado*"
   ]
  },
  {
   "cell_type": "markdown",
   "metadata": {},
   "source": [
    "## Formas de trabajo"
   ]
  },
  {
   "cell_type": "markdown",
   "metadata": {},
   "source": [
    "Python puede trabajar de 2 formas diferentes:\n",
    "\n",
    "* Modo interactivo. Se llama al interprete (generalmente ipython, bpython o IDLE).\n",
    "\n",
    "* Modo estándar. Se llama al interprete de python pasandole un archivo (script) para ser ejecutado."
   ]
  },
  {
   "cell_type": "markdown",
   "metadata": {},
   "source": [
    "## Variables y tipos de datos"
   ]
  },
  {
   "cell_type": "markdown",
   "metadata": {},
   "source": [
    "Una variable es una referencia a un 'valor' previamente definido.\n",
    "\n",
    "x = 1\n",
    "\n",
    "Las variables pueden ser de diversos tipos:\n",
    "\n",
    "* str o cadena de caracteres(String). Almacena palabas. ej. 'hola mundo'\n",
    "\n",
    "* int o entero. Almacena números enteros. ej. 1, 0, 99999.\n",
    "\n",
    "* long o entero largo. Almacena números enteros grandes. 43L o 456966786151987643L.\n",
    "\n",
    "* float o números de coma flotante. Almacena números con punto decimal. ej. 0.1, 9.5, 1000.1000.\n",
    "\n",
    "* bool o boolean. Almacena valores de verdadero o falso. ej. True y False.\n",
    "\n",
    "* list. Alamacena varios valores de difenrente tipo. ej. [1, 2.5, \"3\", 4, 5] o [\"hola\", False]\n",
    "\n",
    "* tuple. Almacena varios valores de diferente tipo (inmutable). ej. (1, \"2\", 3.4, False, 5) o (True, \"hola\", False)\n",
    "\n",
    "* dict o diccionario. Almacena datos del tipo clave - valor. ej. {'key1': 1.0, 'key2': False}\n",
    "\n"
   ]
  },
  {
   "cell_type": "markdown",
   "metadata": {},
   "source": [
    "## palabras reservadas\n",
    "\n",
    "and continue else for import not raise\n",
    "\n",
    "assert def except from in or return\n",
    "\n",
    "break del exec global is pass try\n",
    "\n",
    "class elif finally if lambda print while"
   ]
  },
  {
   "cell_type": "markdown",
   "metadata": {},
   "source": [
    "# A PROGRAMAR!!!"
   ]
  },
  {
   "cell_type": "code",
   "execution_count": 2,
   "metadata": {
    "collapsed": false
   },
   "outputs": [],
   "source": [
    "# definición de variables\n",
    "entero = 10\n",
    "cadena = \"Hola mundo\"\n",
    "flotante = 5.5\n",
    "lista = [\"hola\", \"mundo\", True]\n",
    "tupla = (\"hola\", \"mundo\")\n",
    "diccionario = {\"hola\": \"hello\", \"mundo\": \"world\"}"
   ]
  },
  {
   "cell_type": "code",
   "execution_count": 5,
   "metadata": {
    "collapsed": false
   },
   "outputs": [
    {
     "data": {
      "text/plain": [
       "str"
      ]
     },
     "execution_count": 5,
     "metadata": {},
     "output_type": "execute_result"
    }
   ],
   "source": [
    "type(cadena)  # para saber el tipo de una variable"
   ]
  },
  {
   "cell_type": "code",
   "execution_count": 8,
   "metadata": {
    "collapsed": false
   },
   "outputs": [
    {
     "data": {
      "text/plain": [
       "int"
      ]
     },
     "execution_count": 8,
     "metadata": {},
     "output_type": "execute_result"
    }
   ],
   "source": [
    "# int numero;\n",
    "# numero = \"hola mundo\";  ERROR.\n",
    "entero = 10\n",
    "type(entero)\n"
   ]
  },
  {
   "cell_type": "code",
   "execution_count": 9,
   "metadata": {
    "collapsed": false
   },
   "outputs": [
    {
     "data": {
      "text/plain": [
       "str"
      ]
     },
     "execution_count": 9,
     "metadata": {},
     "output_type": "execute_result"
    }
   ],
   "source": [
    "entero = \"hola\"\n",
    "type(entero)"
   ]
  },
  {
   "cell_type": "code",
   "execution_count": 10,
   "metadata": {
    "collapsed": false
   },
   "outputs": [
    {
     "data": {
      "text/plain": [
       "['hola']"
      ]
     },
     "execution_count": 10,
     "metadata": {},
     "output_type": "execute_result"
    }
   ],
   "source": [
    "entero.split()"
   ]
  },
  {
   "cell_type": "code",
   "execution_count": 11,
   "metadata": {
    "collapsed": true
   },
   "outputs": [],
   "source": [
    "entero = 10"
   ]
  },
  {
   "cell_type": "code",
   "execution_count": 13,
   "metadata": {
    "collapsed": false
   },
   "outputs": [],
   "source": [
    "ENTERO = 10"
   ]
  },
  {
   "cell_type": "code",
   "execution_count": 15,
   "metadata": {
    "collapsed": false
   },
   "outputs": [
    {
     "name": "stdout",
     "output_type": "stream",
     "text": [
      "10\n"
     ]
    }
   ],
   "source": [
    "print(ENTERO)"
   ]
  },
  {
   "cell_type": "code",
   "execution_count": 16,
   "metadata": {
    "collapsed": true
   },
   "outputs": [],
   "source": [
    "import math\n"
   ]
  },
  {
   "cell_type": "code",
   "execution_count": 17,
   "metadata": {
    "collapsed": false
   },
   "outputs": [
    {
     "data": {
      "text/plain": [
       "-7.346410206643587e-06"
      ]
     },
     "execution_count": 17,
     "metadata": {},
     "output_type": "execute_result"
    }
   ],
   "source": [
    "math.sin(3.1416)"
   ]
  },
  {
   "cell_type": "code",
   "execution_count": 18,
   "metadata": {
    "collapsed": false
   },
   "outputs": [
    {
     "data": {
      "text/plain": [
       "-0.9999999999730151"
      ]
     },
     "execution_count": 18,
     "metadata": {},
     "output_type": "execute_result"
    }
   ],
   "source": [
    "math.cos(3.1416)"
   ]
  },
  {
   "cell_type": "code",
   "execution_count": 19,
   "metadata": {
    "collapsed": true
   },
   "outputs": [],
   "source": [
    "from math import sin as seno"
   ]
  },
  {
   "cell_type": "code",
   "execution_count": 20,
   "metadata": {
    "collapsed": false
   },
   "outputs": [
    {
     "data": {
      "text/plain": [
       "-7.346410206643587e-06"
      ]
     },
     "execution_count": 20,
     "metadata": {},
     "output_type": "execute_result"
    }
   ],
   "source": [
    "seno(3.1416)"
   ]
  },
  {
   "cell_type": "code",
   "execution_count": 21,
   "metadata": {
    "collapsed": true
   },
   "outputs": [],
   "source": [
    "import pandas as pd"
   ]
  },
  {
   "cell_type": "code",
   "execution_count": 22,
   "metadata": {
    "collapsed": true
   },
   "outputs": [],
   "source": [
    "df = pd.DataFrame()"
   ]
  },
  {
   "cell_type": "code",
   "execution_count": 24,
   "metadata": {
    "collapsed": false
   },
   "outputs": [
    {
     "data": {
      "text/html": [
       "<div style=\"max-height:1000px;max-width:1500px;overflow:auto;\">\n",
       "<table border=\"1\" class=\"dataframe\">\n",
       "  <thead>\n",
       "    <tr style=\"text-align: right;\">\n",
       "      <th></th>\n",
       "    </tr>\n",
       "  </thead>\n",
       "  <tbody>\n",
       "  </tbody>\n",
       "</table>\n",
       "</div>"
      ],
      "text/plain": [
       "Empty DataFrame\n",
       "Columns: []\n",
       "Index: []"
      ]
     },
     "execution_count": 24,
     "metadata": {},
     "output_type": "execute_result"
    }
   ],
   "source": [
    "df"
   ]
  },
  {
   "cell_type": "code",
   "execution_count": 30,
   "metadata": {
    "collapsed": false
   },
   "outputs": [
    {
     "name": "stdout",
     "output_type": "stream",
     "text": [
      "Hola mundo\n",
      "si es mayor a 5\n"
     ]
    }
   ],
   "source": [
    "# Ejemplo de un if\n",
    "if ENTERO == 10:\n",
    "    print(cadena)\n",
    "    if ENTERO > 5:\n",
    "        print(\"si es mayor a 5\")\n"
   ]
  },
  {
   "cell_type": "code",
   "execution_count": 41,
   "metadata": {
    "collapsed": false
   },
   "outputs": [
    {
     "name": "stdout",
     "output_type": "stream",
     "text": [
      "False\n"
     ]
    }
   ],
   "source": [
    "# ejemplo de un for\n",
    "lista = [\"hola\", \"mundo\", False]\n",
    "for elemento in lista:\n",
    "    if elemento:\n",
    "        continue\n",
    "    print(elemento)"
   ]
  },
  {
   "cell_type": "code",
   "execution_count": 32,
   "metadata": {
    "collapsed": false
   },
   "outputs": [
    {
     "name": "stdout",
     "output_type": "stream",
     "text": [
      "hola\n"
     ]
    }
   ],
   "source": [
    "# ejemplo de un while\n",
    "while True:\n",
    "    print(\"hola\")\n",
    "    break"
   ]
  },
  {
   "cell_type": "code",
   "execution_count": 42,
   "metadata": {
    "collapsed": true
   },
   "outputs": [],
   "source": [
    "archivo = open(\"/home/yosh/Descargas/zshrc\", \"r\")"
   ]
  },
  {
   "cell_type": "code",
   "execution_count": 43,
   "metadata": {
    "collapsed": false
   },
   "outputs": [
    {
     "data": {
      "text/plain": [
       "['# Path to your oh-my-zsh configuration.\\n',\n",
       " 'ZSH=$HOME/.oh-my-zsh\\n',\n",
       " '\\n',\n",
       " '# Set name of the theme to load.\\n',\n",
       " '# Look in ~/.oh-my-zsh/themes/\\n',\n",
       " '# Optionally, if you set this to \"random\", it\\'ll load a random theme each\\n',\n",
       " '# time that oh-my-zsh is loaded.\\n',\n",
       " 'ZSH_THEME=\"bureau\"\\n',\n",
       " '\\n',\n",
       " '# Aliases\\n',\n",
       " 'alias emacs=\"emacs -nw\"\\n',\n",
       " 'alias zshconfig=\"emacs -nw ~/.zshrc\"\\n',\n",
       " 'alias ohmyzsh=\"emacs -nw ~/.oh-my-zsh\"\\n',\n",
       " 'alias sff_extract=\"python ~/CursoUpemor/Software/sff_extract_0_2_13.py\"\\n',\n",
       " 'alias eclipse=\"./Descargas/eclipse/eclipse &\"\\n',\n",
       " 'alias ipython=\"ipython --profile=yosh\"\\n',\n",
       " 'alias brillo=\"xrandr --output LVDS --brightness \"\\n',\n",
       " 'alias clonar=\"xrandr --output LVDS --mode 1366x768 --output CRT1 --mode 1280x768 --right-of LVDS\"\\n',\n",
       " 'alias actualizar=\"sudo pacman -Syyu\"\\n',\n",
       " 'alias buscar=\"yaourt -Ss \"\\n',\n",
       " 'alias instalar=\"sudo pacman -S \"\\n',\n",
       " 'alias contar_reads=\"grep \\'>\\' -c \"\\n',\n",
       " 'alias mocp=\"mocp -T ~/.moc/moc-theme\"\\n',\n",
       " 'alias contar_archivos=\"ls -1 | wc -l\"\\n',\n",
       " 'alias recargar=\"source ~/.zshrc\"\\n',\n",
       " '\\n',\n",
       " '# Alias de conexion con los server INSP\\n',\n",
       " 'alias Titanium=\"ssh -p 265 aaguilar@201.131.57.33 -X\"\\n',\n",
       " 'alias Burnet=\"ssh aaguilar@201.131.57.23 -p 265 -X\"\\n',\n",
       " 'alias Z800=\"ssh adminrig@201.131.57.34 -p 265 -X\"\\n',\n",
       " '\\n',\n",
       " '# Set to this to use case-sensitive completion\\n',\n",
       " '# CASE_SENSITIVE=\"true\"\\n',\n",
       " '\\n',\n",
       " '# Comment this out to disable bi-weekly auto-update checks\\n',\n",
       " '# DISABLE_AUTO_UPDATE=\"true\"\\n',\n",
       " '\\n',\n",
       " '# Uncomment to change how often before auto-updates occur? (in days)\\n',\n",
       " 'export UPDATE_ZSH_DAYS=7\\n',\n",
       " '\\n',\n",
       " '# Uncomment following line if you want to disable colors in ls\\n',\n",
       " '# DISABLE_LS_COLORS=\"true\"\\n',\n",
       " '\\n',\n",
       " '# Uncomment following line if you want to disable autosetting terminal title.\\n',\n",
       " '# DISABLE_AUTO_TITLE=\"true\"\\n',\n",
       " '\\n',\n",
       " '# Uncomment following line if you want to disable command autocorrection\\n',\n",
       " '# DISABLE_CORRECTION=\"true\"\\n',\n",
       " '\\n',\n",
       " '# Uncomment following line if you want red dots to be displayed while waiting for completion\\n',\n",
       " '# COMPLETION_WAITING_DOTS=\"true\"\\n',\n",
       " '\\n',\n",
       " '# Uncomment following line if you want to disable marking untracked files under\\n',\n",
       " '# VCS as dirty. This makes repository status check for large repositories much,\\n',\n",
       " '# much faster.\\n',\n",
       " '# DISABLE_UNTRACKED_FILES_DIRTY=\"true\"\\n',\n",
       " '\\n',\n",
       " '# Which plugins would you like to load? (plugins can be found in ~/.oh-my-zsh/plugins/*)\\n',\n",
       " '# Custom plugins may be added to ~/.oh-my-zsh/custom/plugins/\\n',\n",
       " '# Example format: plugins=(rails git textmate ruby lighthouse)\\n',\n",
       " 'plugins=(git npm sudo virtualenvwrapper pip colored-man archlinux colorize django virtualenv)\\n',\n",
       " '\\n',\n",
       " 'source $ZSH/oh-my-zsh.sh\\n',\n",
       " '\\n',\n",
       " '# Customize PATH...\\n',\n",
       " 'PATH=$PATH:/usr/local/sbin:/usr/local/bin:/usr/bin:/usr/bin/core_perl\\n',\n",
       " 'PATH=$PATH:/home/yosh/Descargas/android-studio/sdk/platform-tools\\n',\n",
       " 'PATH=$PATH:/home/yosh/.bin\\n',\n",
       " 'PATH=$PATH:/usr/local/heroku/bin\\n',\n",
       " '\\n',\n",
       " 'export PATH\\n',\n",
       " '\\n',\n",
       " '# Set virtualenvwrapper variable\\n',\n",
       " 'export WORKON_HOME=$HOME/.virtualenvs\\n']"
      ]
     },
     "execution_count": 43,
     "metadata": {},
     "output_type": "execute_result"
    }
   ],
   "source": [
    "archivo.readlines()"
   ]
  },
  {
   "cell_type": "code",
   "execution_count": 44,
   "metadata": {
    "collapsed": true
   },
   "outputs": [],
   "source": [
    "archivo.close()"
   ]
  },
  {
   "cell_type": "code",
   "execution_count": 45,
   "metadata": {
    "collapsed": true
   },
   "outputs": [],
   "source": [
    "archivo = open(\"/home/yosh/Descargas/zshrc1\", \"w\")  # modos: a - apped, w - write, r - read"
   ]
  },
  {
   "cell_type": "code",
   "execution_count": 46,
   "metadata": {
    "collapsed": false
   },
   "outputs": [
    {
     "data": {
      "text/plain": [
       "17"
      ]
     },
     "execution_count": 46,
     "metadata": {},
     "output_type": "execute_result"
    }
   ],
   "source": [
    "archivo.write(\"hola mundo\\n\\thola\\n\")"
   ]
  },
  {
   "cell_type": "code",
   "execution_count": 47,
   "metadata": {
    "collapsed": true
   },
   "outputs": [],
   "source": [
    "archivo.flush()"
   ]
  },
  {
   "cell_type": "code",
   "execution_count": 48,
   "metadata": {
    "collapsed": true
   },
   "outputs": [],
   "source": [
    "archivo.close()"
   ]
  },
  {
   "cell_type": "code",
   "execution_count": 53,
   "metadata": {
    "collapsed": false
   },
   "outputs": [
    {
     "name": "stdout",
     "output_type": "stream",
     "text": [
      "3.141592653589793\n"
     ]
    }
   ],
   "source": [
    "#!/usr/bin/env python\n",
    "# -*- coding: utf-8 -*-\n",
    "\n",
    "\"\"\"\n",
    "author\n",
    "date\n",
    "build\n",
    "\"\"\"\n",
    "\n",
    "from math import sin, cos, pi\n",
    "from pandas import DataFrame\n",
    "\n",
    "print(pi)"
   ]
  },
  {
   "cell_type": "code",
   "execution_count": 54,
   "metadata": {
    "collapsed": false
   },
   "outputs": [
    {
     "name": "stdout",
     "output_type": "stream",
     "text": [
      "elige una opcion: 10\n"
     ]
    }
   ],
   "source": [
    "opt = input(\"elige una opcion: \")"
   ]
  },
  {
   "cell_type": "code",
   "execution_count": 55,
   "metadata": {
    "collapsed": false
   },
   "outputs": [
    {
     "data": {
      "text/plain": [
       "'10'"
      ]
     },
     "execution_count": 55,
     "metadata": {},
     "output_type": "execute_result"
    }
   ],
   "source": [
    "opt"
   ]
  },
  {
   "cell_type": "code",
   "execution_count": 56,
   "metadata": {
    "collapsed": false
   },
   "outputs": [
    {
     "data": {
      "text/plain": [
       "10"
      ]
     },
     "execution_count": 56,
     "metadata": {},
     "output_type": "execute_result"
    }
   ],
   "source": [
    "int(opt)"
   ]
  },
  {
   "cell_type": "code",
   "execution_count": 59,
   "metadata": {
    "collapsed": false
   },
   "outputs": [
    {
     "name": "stdout",
     "output_type": "stream",
     "text": [
      "elige: 10\n"
     ]
    }
   ],
   "source": [
    "opt = int(input(\"elige: \"))  # esto no!!!"
   ]
  },
  {
   "cell_type": "code",
   "execution_count": null,
   "metadata": {
    "collapsed": true
   },
   "outputs": [],
   "source": []
  }
 ],
 "metadata": {
  "kernelspec": {
   "display_name": "Python 3",
   "language": "python",
   "name": "python3"
  },
  "language_info": {
   "codemirror_mode": {
    "name": "ipython",
    "version": 3
   },
   "file_extension": ".py",
   "mimetype": "text/x-python",
   "name": "python",
   "nbconvert_exporter": "python",
   "pygments_lexer": "ipython3",
   "version": "3.4.3"
  }
 },
 "nbformat": 4,
 "nbformat_minor": 0
}
