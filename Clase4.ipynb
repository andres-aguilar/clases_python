{
 "cells": [
  {
   "cell_type": "markdown",
   "metadata": {},
   "source": [
    "# Clase 4\n",
    "\n",
    "##  Crear Scripts, paso de parámetros, módulos\n",
    "\n",
    "\n",
    "\"En informática un script, archivo de órdenes, archivo de procesamiento por lotes o guión es un programa usualmente simple, que por lo regular se almacena en un archivo de texto plano.\" - _wikipedia_\n",
    "\n",
    "### ¿Cómo se crea un script?\n",
    "\n",
    "Un script es un archivo de texto plano que contiene las instrucciones en un determinado lenguaje de programación. En éste caso, para indicar al sistema operativo que las instrucciones las tiene que procesar Python el archivo debe comenzar con la siguiente linea\n",
    "\n",
    "> \\#!/usr/bin/python   ó   \\#!/usr/bin/env python\n",
    "\n",
    "Siendo la segunda la más recomendada ya que se le pregunta al SO la ruta al interprete de Python.\n",
    "\n",
    "\n",
    "##### IMPORTANTE: Para que un script pueda ser ejecutado por el SO debe tener los permisos de ejecución indicados.\n",
    "\n",
    "Se pueden dar permisos de ejecución al script con el comando _chmod_ de la siguiente forma\n",
    "\n",
    "> chmod [u|g|o]+x     # u: user, g: group, o: others\n",
    "\n",
    "\n",
    "## Argparse\n",
    "\n",
    "[Argparse](https://docs.python.org/dev/library/argparse.html#module-argparse) es un módulo de python que permite recibir parámetros desde la linea de comandos de una manera fácil y sencilla.\n"
   ]
  },
  {
   "cell_type": "code",
   "execution_count": 1,
   "metadata": {
    "collapsed": false
   },
   "outputs": [
    {
     "name": "stderr",
     "output_type": "stream",
     "text": [
      "usage: __main__.py [-h] [-i INPUT] [-p PATH]\n",
      "__main__.py: error: unrecognized arguments: -f /home/andres/.ipython/profile_default/security/kernel-ad915962-87ed-4d98-9cbe-2170634323dd.json --profile-dir /home/andres/.ipython/profile_default\n"
     ]
    },
    {
     "ename": "SystemExit",
     "evalue": "2",
     "output_type": "error",
     "traceback": [
      "An exception has occurred, use %tb to see the full traceback.\n",
      "\u001b[1;31mSystemExit\u001b[0m\u001b[1;31m:\u001b[0m 2\n"
     ]
    },
    {
     "name": "stderr",
     "output_type": "stream",
     "text": [
      "To exit: use 'exit', 'quit', or Ctrl-D.\n"
     ]
    }
   ],
   "source": [
    "from argparse import ArgumentParser\n",
    "from os.path import isfile, isdir\n",
    "from os import listdir\n",
    "\n",
    "def open_file(in_file):\n",
    "    \"\"\" function: open_file\n",
    "    \n",
    "    Function to print a file\n",
    "    \n",
    "    Arguments\n",
    "    ---------\n",
    "      in_file: input file\n",
    "      \n",
    "    Return\n",
    "    ---------\n",
    "      None\n",
    "    \"\"\"\n",
    "    if isfile(in_file):\n",
    "        archivo = open(in_file, \"r\")\n",
    "        \n",
    "        print(archivo.read())\n",
    "\n",
    "        archivo.close()\n",
    "    else:\n",
    "        print(\"Parece ser que este no es un archivo!!!\")\n",
    "        \n",
    "\n",
    "def list_directory(directory):\n",
    "    \"\"\" Function: list_directory\n",
    "    \"\"\"\n",
    "    if isdir(directory):\n",
    "        archivos = listdir(directory)\n",
    "        \n",
    "        archivos.sort()\n",
    "        for archivo in archivos:\n",
    "            if not archivo.startswith(\".\"):\n",
    "                print(archivo)\n",
    "    else:\n",
    "        print(\"Este no es un directorio!!\")\n",
    "\n",
    "\n",
    "if __name__ == '__main__':\n",
    "    parser = ArgumentParser(description=\"Programita\",\n",
    "                            epilog=\"Este programita es GPL\")\n",
    "                            \n",
    "    parser.add_argument('-i', '--input',  help=\"Archivo de entrada\")\n",
    "    parser.add_argument('-p', '--path', help=\"Path a listar\")\n",
    "    \n",
    "    args = parser.parse_args()\n",
    "    \n",
    "    print(\"Parametros de entrada:\", args, \"\\n\")\n",
    "    list_directory(args.path)\n",
    "    open_file(args.input)"
   ]
  },
  {
   "cell_type": "code",
   "execution_count": null,
   "metadata": {
    "collapsed": true
   },
   "outputs": [],
   "source": []
  }
 ],
 "metadata": {
  "kernelspec": {
   "display_name": "Python 3",
   "language": "python",
   "name": "python3"
  },
  "language_info": {
   "codemirror_mode": {
    "name": "ipython",
    "version": 3
   },
   "file_extension": ".py",
   "mimetype": "text/x-python",
   "name": "python",
   "nbconvert_exporter": "python",
   "pygments_lexer": "ipython3",
   "version": "3.4.3"
  }
 },
 "nbformat": 4,
 "nbformat_minor": 0
}
