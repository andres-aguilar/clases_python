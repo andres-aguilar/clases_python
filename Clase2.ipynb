{
 "cells": [
  {
   "cell_type": "markdown",
   "metadata": {},
   "source": [
    "#nombres de variables\n",
    "\n",
    "* Descriptivos (NO: x , y , z) (para ciclos si se puede: i, j)\n",
    "\n",
    ">  Ej. tabla_frecuencias\n",
    "\n",
    "* Los nombres de las variables van en minusculas. ej. tabla_frcuencias\n",
    "\n",
    "* Los nombres de las vconstantes van en mayusculas. ej. PI\n",
    "\n",
    "* Indicar el tipo de las variables con: str_nombre"
   ]
  },
  {
   "cell_type": "markdown",
   "metadata": {},
   "source": [
    "# Segunda clase - Funciones"
   ]
  },
  {
   "cell_type": "markdown",
   "metadata": {},
   "source": [
    "Una función es un fragmento de código que recibe parámetros y retorna un valor.\n",
    "\n",
    "la palabra reservada para definir una función es: _def_\n",
    "\n",
    "* En python las funciones no requieren indicar el tipo de retorno y pueden no regresar nada.\n",
    "\n",
    "* Una función solo debe estar enfocada en una sola tarea y no más. (leer un archivo, realizar operaciones matemáticas, etc)\n",
    "\n",
    "ejemplo:"
   ]
  },
  {
   "cell_type": "code",
   "execution_count": 2,
   "metadata": {
    "collapsed": false
   },
   "outputs": [
    {
     "name": "stdout",
     "output_type": "stream",
     "text": [
      "hola  a todos\n"
     ]
    }
   ],
   "source": [
    "def saludo(str_nombre):\n",
    "    \"\"\" Funcion que recibe un nombre e imprime un saludo\n",
    "    \n",
    "    :Params: String con el nombre\n",
    "    :Return: None\n",
    "    \"\"\"\n",
    "    print(\"hola \", str_nombre)\n",
    "    \n",
    "\n",
    "saludo(\"a todos\")"
   ]
  },
  {
   "cell_type": "markdown",
   "metadata": {},
   "source": [
    "###Ejercicio.\n",
    "\n",
    "Definir una función para elevar cualquier número al cuadrado."
   ]
  },
  {
   "cell_type": "code",
   "execution_count": 3,
   "metadata": {
    "collapsed": false
   },
   "outputs": [
    {
     "data": {
      "text/plain": [
       "16"
      ]
     },
     "execution_count": 3,
     "metadata": {},
     "output_type": "execute_result"
    }
   ],
   "source": [
    "def cuadrado(int_numero):\n",
    "    \"\"\" funcion para sacar el cuadrado de un numero\n",
    "    \n",
    "    :params: el numero a operar\n",
    "    :return: el cuadrado del numero\n",
    "    \"\"\"\n",
    "    return int_numero * int_numero  # int_numero ** 2\n",
    "\n",
    "\n",
    "cuadrado(4)"
   ]
  },
  {
   "cell_type": "markdown",
   "metadata": {},
   "source": [
    "## Ejercicio 2\n",
    "\n",
    "Crear una finción que calcule el indice de Gini-Simpson\n",
    "\n",
    "1/Suma(Pi^2)\n",
    "\n",
    "ID  freq\n",
    "IGHAsdasd   20\n",
    "\n",
    "list (20, 10, 5, 3)"
   ]
  },
  {
   "cell_type": "code",
   "execution_count": 6,
   "metadata": {
    "collapsed": false
   },
   "outputs": [
    {
     "data": {
      "text/plain": [
       "0.0001818181818181818"
      ]
     },
     "execution_count": 6,
     "metadata": {},
     "output_type": "execute_result"
    }
   ],
   "source": [
    "def gini(lista):\n",
    "    \"\"\" Gini-Simpson diversity index\n",
    "\n",
    "    :Formula: 1/SUM(pi^2)\n",
    "    :params:\n",
    "    :Return:\n",
    "    \"\"\"\n",
    "    lista_ordenada = sorted(lista)  # orderdenar la lista\n",
    "\n",
    "    int_suma_total = 0\n",
    "    for elemento in lista_ordenada:\n",
    "        temp = elemento * elemento\n",
    "        int_suma_total = int_suma_total + temp\n",
    "\n",
    "    return int_suma_total ** -1\n",
    "\n",
    "gini([10, 20, 30, 40, 50])"
   ]
  },
  {
   "cell_type": "markdown",
   "metadata": {},
   "source": [
    "# Pandas, numpy, scipy\n",
    "\n",
    "[Pandas](http://pandas.pydata.org/). pandas is an open source library providing high-performance, easy-to-use data structures and data analysis tools. (sudo pip install pandas) \n",
    "\n",
    "[numpy](http://www.numpy.org/). useful linear algebra, Fourier transform, and random number capabilities. (sudo pip install numpy)\n",
    "\n",
    "[scipy](http://www.scipy.org/) Fundamental library for scientific computing. (sudo pip install scipy)"
   ]
  },
  {
   "cell_type": "code",
   "execution_count": 8,
   "metadata": {
    "collapsed": false
   },
   "outputs": [],
   "source": [
    "import pandas as pd\n",
    "import numpy as np\n",
    "import matplotlib as plt"
   ]
  },
  {
   "cell_type": "code",
   "execution_count": null,
   "metadata": {
    "collapsed": true
   },
   "outputs": [],
   "source": []
  }
 ],
 "metadata": {
  "kernelspec": {
   "display_name": "Python 3",
   "language": "python",
   "name": "python3"
  },
  "language_info": {
   "codemirror_mode": {
    "name": "ipython",
    "version": 3
   },
   "file_extension": ".py",
   "mimetype": "text/x-python",
   "name": "python",
   "nbconvert_exporter": "python",
   "pygments_lexer": "ipython3",
   "version": "3.4.3"
  }
 },
 "nbformat": 4,
 "nbformat_minor": 0
}
